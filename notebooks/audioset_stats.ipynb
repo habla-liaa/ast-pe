{
 "cells": [
  {
   "cell_type": "code",
   "execution_count": 10,
   "source": [
    "import soundfile as sf\n",
    "import joblib\n",
    "import numpy as np\n",
    "import os\n",
    "import glob\n",
    "from tqdm import tqdm\n",
    "\n",
    "os.chdir('/home/lpepino/ast-pe')"
   ],
   "outputs": [],
   "metadata": {}
  },
  {
   "cell_type": "code",
   "execution_count": 4,
   "source": [
    "dienen_model = joblib.load('pretrained_models/peg-embeddings-220ksteps.dnn')"
   ],
   "outputs": [],
   "metadata": {}
  },
  {
   "cell_type": "code",
   "execution_count": null,
   "source": [
    "means = []\n",
    "stds = []\n",
    "for f in tqdm(glob.glob('../Datasets/audioset_balanced/*.wav')):\n",
    "    x, fs = sf.read(f)\n",
    "    if x.ndim > 1:\n",
    "        x = np.mean(x,axis=1)\n",
    "    x = x - np.mean(x)\n",
    "    if len(x) > 158960:\n",
    "        x_ = x[:158960]\n",
    "    else:\n",
    "        x_ = np.zeros((158960,))\n",
    "        x_[:len(x)] = x\n",
    "    pred = dienen_model.predict(x_[np.newaxis,:], output='Log_0')\n",
    "    means.append(np.mean(pred['Log_0']))\n",
    "    stds.append(np.std(pred['Log_0']))"
   ],
   "outputs": [],
   "metadata": {}
  },
  {
   "cell_type": "code",
   "execution_count": 16,
   "source": [
    "print(np.mean(means))\n",
    "print(np.mean(stds))"
   ],
   "outputs": [
    {
     "output_type": "stream",
     "name": "stdout",
     "text": [
      "-0.9356228\n",
      "1.4425788\n"
     ]
    }
   ],
   "metadata": {}
  },
  {
   "cell_type": "code",
   "execution_count": 14,
   "source": [
    "dienen_model.summary()"
   ],
   "outputs": [
    {
     "output_type": "stream",
     "name": "stdout",
     "text": [
      "Model: \"model\"\n",
      "_________________________________________________________________\n",
      "Layer (type)                 Output Shape              Param #   \n",
      "=================================================================\n",
      "waveform (InputLayer)        [(None, 158960)]          0         \n",
      "_________________________________________________________________\n",
      "Spectrogram_0 (Spectrogram)  (None, 992, 257)          0         \n",
      "_________________________________________________________________\n",
      "SpecAugment_0 (SpecAugment)  (None, 992, 257)          254944    \n",
      "_________________________________________________________________\n",
      "MelScale_0 (MelScale)        (None, 992, 64)           0         \n",
      "_________________________________________________________________\n",
      "Log_0 (Log)                  (None, 992, 64)           0         \n",
      "_________________________________________________________________\n",
      "TranslateRange_0 (TranslateR (None, 992, 64)           0         \n",
      "_________________________________________________________________\n",
      "Activation_0 (Activation)    (None, 992, 64)           0         \n",
      "_________________________________________________________________\n",
      "ExpandDims_0 (ExpandDims)    (None, 992, 64, 1)        0         \n",
      "_________________________________________________________________\n",
      "patches (GetPatches)         (None, 248, 32, 8, 1)     0         \n",
      "_________________________________________________________________\n",
      "flattened_patches (Reshape)  (None, 248, 256)          0         \n",
      "_________________________________________________________________\n",
      "patches_projection (Dense)   (None, 248, 768)          197376    \n",
      "_________________________________________________________________\n",
      "add_cls_token (ZeroPadding1D (None, 249, 768)          0         \n",
      "_________________________________________________________________\n",
      "LayerNormalization_0 (LayerN (None, 249, 768)          1536      \n",
      "_________________________________________________________________\n",
      "transformer_encoder_0/Transf (None, 249, 768)          5508096   \n",
      "_________________________________________________________________\n",
      "transformer_encoder_0/PEG_0  (None, 249, 768)          8448      \n",
      "_________________________________________________________________\n",
      "transformer_encoder_1/Transf (None, 249, 768)          5508096   \n",
      "_________________________________________________________________\n",
      "transformer_encoder_1/PEG_0  (None, 249, 768)          7680      \n",
      "_________________________________________________________________\n",
      "transformer_encoder_2/Transf (None, 249, 768)          5508096   \n",
      "_________________________________________________________________\n",
      "transformer_encoder_2/PEG_0  (None, 249, 768)          7680      \n",
      "_________________________________________________________________\n",
      "transformer_encoder_3/Transf (None, 249, 768)          5508096   \n",
      "_________________________________________________________________\n",
      "transformer_encoder_3/PEG_0  (None, 249, 768)          7680      \n",
      "_________________________________________________________________\n",
      "transformer_encoder_4/Transf (None, 249, 768)          5508096   \n",
      "_________________________________________________________________\n",
      "transformer_encoder_4/PEG_0  (None, 249, 768)          7680      \n",
      "_________________________________________________________________\n",
      "Stamp_0_0/TransformerBlock_0 (None, 249, 768)          5508096   \n",
      "_________________________________________________________________\n",
      "Stamp_0_1/TransformerBlock_0 (None, 249, 768)          5508096   \n",
      "_________________________________________________________________\n",
      "Stamp_0_2/TransformerBlock_0 (None, 249, 768)          5508096   \n",
      "_________________________________________________________________\n",
      "Stamp_0_3/TransformerBlock_0 (None, 249, 768)          5508096   \n",
      "_________________________________________________________________\n",
      "Stamp_0_4/TransformerBlock_0 (None, 249, 768)          5508096   \n",
      "_________________________________________________________________\n",
      "Stamp_0_5/TransformerBlock_0 (None, 249, 768)          5508096   \n",
      "_________________________________________________________________\n",
      "Stamp_0_6/TransformerBlock_0 (None, 249, 768)          5508096   \n",
      "_________________________________________________________________\n",
      "get_cls_token (SliceTensor)  (None, 1, 768)            0         \n",
      "_________________________________________________________________\n",
      "Squeeze_0 (Squeeze)          (None, 768)               0         \n",
      "_________________________________________________________________\n",
      "probs/Dense (Dense)          (None, 527)               405263    \n",
      "_________________________________________________________________\n",
      "probs/Activation (Activation (None, 527)               0         \n",
      "=================================================================\n",
      "Total params: 66,995,439\n",
      "Trainable params: 66,740,495\n",
      "Non-trainable params: 254,944\n",
      "_________________________________________________________________\n"
     ]
    }
   ],
   "metadata": {}
  },
  {
   "cell_type": "code",
   "execution_count": null,
   "source": [],
   "outputs": [],
   "metadata": {}
  }
 ],
 "metadata": {
  "orig_nbformat": 4,
  "language_info": {
   "name": "python",
   "version": "3.9.1",
   "mimetype": "text/x-python",
   "codemirror_mode": {
    "name": "ipython",
    "version": 3
   },
   "pygments_lexer": "ipython3",
   "nbconvert_exporter": "python",
   "file_extension": ".py"
  },
  "kernelspec": {
   "name": "python3",
   "display_name": "Python 3.9.1 64-bit ('base': conda)"
  },
  "interpreter": {
   "hash": "7f109f917746bde0105aa6f4f7b7bda821548a9b1f44fb6b19ddde6ec63db59f"
  }
 },
 "nbformat": 4,
 "nbformat_minor": 2
}