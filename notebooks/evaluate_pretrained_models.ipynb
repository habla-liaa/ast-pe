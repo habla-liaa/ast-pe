{
 "cells": [
  {
   "cell_type": "code",
   "execution_count": 1,
   "source": [
    "import joblib\n",
    "import pandas as pd\n",
    "import soundfile as sf\n",
    "import glob\n",
    "from pathlib import Path\n",
    "from tqdm import tqdm\n",
    "import numpy as np\n",
    "import os\n",
    "from sklearn.metrics import average_precision_score\n",
    "import copy\n",
    "\n",
    "os.chdir('/home/lpepino/ast-pe')"
   ],
   "outputs": [],
   "metadata": {}
  },
  {
   "cell_type": "code",
   "execution_count": 2,
   "source": [
    "class_map = pd.read_csv('../Datasets/Audioset/audioset_class_map.csv')\n",
    "class_map = class_map.reset_index().set_index('mid')\n",
    "\n",
    "read_csv_kwarg = {'delimiter': ',',\n",
    "    'skipinitialspace': True,\n",
    "    'quotechar': '\"',\n",
    "    'encoding': 'utf-8',\n",
    "    'header': 2}\n",
    "\n",
    "df_eval = pd.read_csv('http://storage.googleapis.com/us_audioset/youtube_corpus/v1/csv/eval_segments.csv', **read_csv_kwarg)\n",
    "df_eval = df_eval.set_index('# YTID')\n",
    "eval_wavs = glob.glob('../Datasets/audioset_evaluation/*.wav')"
   ],
   "outputs": [],
   "metadata": {}
  },
  {
   "cell_type": "code",
   "execution_count": 5,
   "source": [
    "def swa(ckpts_to_avg):\n",
    "    ckpt_swa = {}\n",
    "    for ckpt_i in ckpts_to_avg:\n",
    "        ckpt_i = joblib.load(ckpt_i)\n",
    "        for k,v in ckpt_i.items():\n",
    "            if k not in ckpt_swa:\n",
    "                ckpt_swa[k] = copy.deepcopy(v)\n",
    "            else:\n",
    "                for i,w in enumerate(v[0]):\n",
    "                    ckpt_swa[k][0][i] += w\n",
    "\n",
    "    for k,v in ckpt_swa.items():\n",
    "        for i,w in enumerate(ckpt_swa[k][0]):\n",
    "            ckpt_swa[k][0][i] = ckpt_swa[k][0][i]/len(ckpts_to_avg)\n",
    "\n",
    "    return ckpt_swa\n",
    "\n",
    "def eval_model(model, ckpt_path=None, average_ckpts=None):\n",
    "    INPUT_LEN = 158960\n",
    "    if average_ckpts is not None:\n",
    "        ckpt_metadata = joblib.load(Path(ckpt_path,'metadata'))\n",
    "        ckpt_metadata = {m['step']: m['weights_path'] for m in ckpt_metadata}\n",
    "        ckpts = list(ckpt_metadata.values())\n",
    "        to_avg_ckpts = ckpts[-average_ckpts:]\n",
    "        print('SWA of {}/{} checkpoints'.format(len(to_avg_ckpts),len(ckpts)))\n",
    "        print(list(ckpt_metadata.keys()))\n",
    "        swa_ckpt = swa(to_avg_ckpts)\n",
    "        model.set_weights(swa_ckpt)\n",
    "\n",
    "    preds = []\n",
    "    gts = []\n",
    "    filenames = []\n",
    "    xs = []\n",
    "    BATCH_SIZE = 64\n",
    "    for x in tqdm(eval_wavs):\n",
    "        gt = np.zeros((len(class_map),))\n",
    "        for l in df_eval.loc[str(Path(x).stem)]['positive_labels'].split(','):\n",
    "            gt[class_map.loc[l]['index']] = 1\n",
    "        gts.append(gt)\n",
    "        x, fs = sf.read(x)\n",
    "        filenames.append(x)\n",
    "        if x.ndim>1:\n",
    "            x = np.mean(x,axis=1)\n",
    "        if len(x) < INPUT_LEN:\n",
    "            x = np.pad(x,(0,INPUT_LEN - x.shape[0]))\n",
    "        else:\n",
    "            x = x[:INPUT_LEN]\n",
    "        xs.append(x)\n",
    "        if len(xs) == BATCH_SIZE:\n",
    "            pred = model.predict(np.array(xs))\n",
    "            preds.append(pred)\n",
    "            xs = []\n",
    "    if len(xs) > 0:\n",
    "        pred = model.predict(np.array(xs))\n",
    "        preds.append(pred)\n",
    "\n",
    "    preds = np.concatenate(preds)\n",
    "    gts = np.stack(gts)\n",
    "    \n",
    "    ap = average_precision_score(gts,preds,average=None)\n",
    "    mAP = np.mean(ap)\n",
    "\n",
    "    return mAP"
   ],
   "outputs": [],
   "metadata": {}
  },
  {
   "cell_type": "code",
   "execution_count": 6,
   "source": [
    "model = joblib.load('pretrained_models/abs-pe-encodings-220ksteps.dnn')\n",
    "abs_best_ckpt_map = eval_model(model)\n",
    "model = joblib.load('pretrained_models/peg-embeddings-220ksteps.dnn')\n",
    "peg_best_ckpt_map = eval_model(model)\n",
    "#swa_maps = [eval_model(model,\n",
    "#            'cache/29ee2dbd2ca67d07ea6bdc598b0a17352309a770/checkpoints',\n",
    "#            i) for i in range(37)]"
   ],
   "outputs": [
    {
     "output_type": "stream",
     "name": "stderr",
     "text": [
      "100%|██████████| 16710/16710 [02:36<00:00, 106.84it/s]\n",
      "100%|██████████| 16710/16710 [02:32<00:00, 109.29it/s]\n"
     ]
    }
   ],
   "metadata": {}
  },
  {
   "cell_type": "code",
   "execution_count": 7,
   "source": [
    "abs_swa_map = joblib.load('pretrained_models/swa_maps_abs.jl')[25]\n",
    "peg_swa_map = joblib.load('pretrained_models/swa_maps_peg.jl')[25]"
   ],
   "outputs": [],
   "metadata": {}
  },
  {
   "cell_type": "code",
   "execution_count": 8,
   "source": [
    "print('Abs best checkpoint MAP: {:.3f}'.format(abs_best_ckpt_map))\n",
    "print('Abs SWA MAP: {:.3f}'.format(abs_swa_map))\n",
    "print('CPEG best checkpoint MAP: {:.3f}'.format(peg_best_ckpt_map))\n",
    "print('CPEG SWA MAP: {:.3f}'.format(peg_swa_map))"
   ],
   "outputs": [
    {
     "output_type": "stream",
     "name": "stdout",
     "text": [
      "Abs best checkpoint MAP: 0.288\n",
      "Abs SWA MAP: 0.315\n",
      "CPEG best checkpoint MAP: 0.321\n",
      "CPEG SWA MAP: 0.345\n"
     ]
    }
   ],
   "metadata": {}
  },
  {
   "cell_type": "code",
   "execution_count": 6,
   "source": [
    "joblib.dump(swa_maps,'pretrained_models/swa_maps_abs.jl')"
   ],
   "outputs": [
    {
     "output_type": "execute_result",
     "data": {
      "text/plain": [
       "['pretrained_models/swa_maps_abs.jl']"
      ]
     },
     "metadata": {},
     "execution_count": 6
    }
   ],
   "metadata": {}
  },
  {
   "cell_type": "code",
   "execution_count": 5,
   "source": [
    "import matplotlib.pyplot as plt\n",
    "\n",
    "swa_maps.append(swa_maps[0])\n",
    "swa_maps = swa_maps[1:]\n",
    "\n",
    "plt.plot(swa_maps)\n",
    "plt.xlabel('Number of averaged epochs')\n",
    "plt.ylabel('mAP')"
   ],
   "outputs": [
    {
     "output_type": "execute_result",
     "data": {
      "text/plain": [
       "Text(0, 0.5, 'mAP')"
      ]
     },
     "metadata": {},
     "execution_count": 5
    },
    {
     "output_type": "display_data",
     "data": {
      "text/plain": [
       "<Figure size 432x288 with 1 Axes>"
      ],
      "image/png": "[encoded data removed]"
     },
     "metadata": {
      "needs_background": "light"
     }
    }
   ],
   "metadata": {}
  },
  {
   "cell_type": "code",
   "execution_count": 43,
   "source": [
    "ckpt_1['transformer_encoder_2/TransformerBlock_0'][1]"
   ],
   "outputs": [
    {
     "output_type": "execute_result",
     "data": {
      "text/plain": [
       "['transformer_encoder_2/TransformerBlock_0/transformer_encoder_2/TransformerBlock_0_mha/transformer_encoder_2/TransformerBlock_0_mha_wq/kernel:0',\n",
       " 'transformer_encoder_2/TransformerBlock_0/transformer_encoder_2/TransformerBlock_0_mha/transformer_encoder_2/TransformerBlock_0_mha_wk/kernel:0',\n",
       " 'transformer_encoder_2/TransformerBlock_0/transformer_encoder_2/TransformerBlock_0_mha/transformer_encoder_2/TransformerBlock_0_mha_wv/kernel:0',\n",
       " 'transformer_encoder_2/TransformerBlock_0/transformer_encoder_2/TransformerBlock_0_mha/transformer_encoder_2/TransformerBlock_0_mha_wo/kernel:0',\n",
       " 'transformer_encoder_2/TransformerBlock_0/transformer_encoder_2/TransformerBlock_0_layernorm_1/gamma:0',\n",
       " 'transformer_encoder_2/TransformerBlock_0/transformer_encoder_2/TransformerBlock_0_layernorm_1/beta:0',\n",
       " 'transformer_encoder_2/TransformerBlock_0/transformer_encoder_2/TransformerBlock_0_layernorm_2/gamma:0',\n",
       " 'transformer_encoder_2/TransformerBlock_0/transformer_encoder_2/TransformerBlock_0_layernorm_2/beta:0',\n",
       " 'transformer_encoder_2/TransformerBlock_0/transformer_encoder_2/TransformerBlock_0_ff_1/kernel:0',\n",
       " 'transformer_encoder_2/TransformerBlock_0/transformer_encoder_2/TransformerBlock_0_ff_2/kernel:0']"
      ]
     },
     "metadata": {},
     "execution_count": 43
    }
   ],
   "metadata": {}
  },
  {
   "cell_type": "code",
   "execution_count": null,
   "source": [],
   "outputs": [],
   "metadata": {}
  }
 ],
 "metadata": {
  "orig_nbformat": 4,
  "language_info": {
   "name": "python",
   "version": "3.9.1",
   "mimetype": "text/x-python",
   "codemirror_mode": {
    "name": "ipython",
    "version": 3
   },
   "pygments_lexer": "ipython3",
   "nbconvert_exporter": "python",
   "file_extension": ".py"
  },
  "kernelspec": {
   "name": "python3",
   "display_name": "Python 3.9.1 64-bit ('base': conda)"
  },
  "interpreter": {
   "hash": "7f109f917746bde0105aa6f4f7b7bda821548a9b1f44fb6b19ddde6ec63db59f"
  }
 },
 "nbformat": 4,
 "nbformat_minor": 2
}