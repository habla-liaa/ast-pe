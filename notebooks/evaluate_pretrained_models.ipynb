{
 "cells": [
  {
   "cell_type": "code",
   "execution_count": 1,
   "source": [
    "import joblib\n",
    "import pandas as pd\n",
    "import soundfile as sf\n",
    "import glob\n",
    "from pathlib import Path\n",
    "from tqdm import tqdm\n",
    "import numpy as np\n",
    "import os\n",
    "from sklearn.metrics import average_precision_score\n",
    "import copy\n",
    "\n",
    "os.chdir('/home/lpepino/ast-pe')"
   ],
   "outputs": [],
   "metadata": {}
  },
  {
   "cell_type": "code",
   "execution_count": 2,
   "source": [
    "class_map = pd.read_csv('../Datasets/Audioset/audioset_class_map.csv')\n",
    "class_map = class_map.reset_index().set_index('mid')\n",
    "\n",
    "read_csv_kwarg = {'delimiter': ',',\n",
    "    'skipinitialspace': True,\n",
    "    'quotechar': '\"',\n",
    "    'encoding': 'utf-8',\n",
    "    'header': 2}\n",
    "\n",
    "df_eval = pd.read_csv('http://storage.googleapis.com/us_audioset/youtube_corpus/v1/csv/eval_segments.csv', **read_csv_kwarg)\n",
    "df_eval = df_eval.set_index('# YTID')\n",
    "eval_wavs = glob.glob('../Datasets/audioset_evaluation/*.wav')"
   ],
   "outputs": [],
   "metadata": {}
  },
  {
   "cell_type": "code",
   "execution_count": 3,
   "source": [
    "def swa(ckpts_to_avg):\n",
    "    ckpt_swa = {}\n",
    "    for ckpt_i in ckpts_to_avg:\n",
    "        ckpt_i = joblib.load(ckpt_i)\n",
    "        for k,v in ckpt_i.items():\n",
    "            if k not in ckpt_swa:\n",
    "                ckpt_swa[k] = copy.deepcopy(v)\n",
    "            else:\n",
    "                for i,w in enumerate(v[0]):\n",
    "                    ckpt_swa[k][0][i] += w\n",
    "\n",
    "    for k,v in ckpt_swa.items():\n",
    "        for i,w in enumerate(ckpt_swa[k][0]):\n",
    "            ckpt_swa[k][0][i] = ckpt_swa[k][0][i]/len(ckpts_to_avg)\n",
    "\n",
    "    return ckpt_swa\n",
    "\n",
    "def eval_model(model, ckpt_path=None, average_ckpts=None):\n",
    "    INPUT_LEN = 158960\n",
    "    if average_ckpts is not None:\n",
    "        ckpt_metadata = joblib.load(Path(ckpt_path,'metadata'))\n",
    "        ckpt_metadata = {m['step']: m['weights_path'] for m in ckpt_metadata}\n",
    "        ckpts = list(ckpt_metadata.values())\n",
    "        to_avg_ckpts = ckpts[-average_ckpts:]\n",
    "        print('SWA of {}/{} checkpoints'.format(len(to_avg_ckpts),len(ckpts)))\n",
    "        print(list(ckpt_metadata.keys()))\n",
    "        swa_ckpt = swa(to_avg_ckpts)\n",
    "        model.set_weights(swa_ckpt)\n",
    "\n",
    "    preds = []\n",
    "    gts = []\n",
    "    filenames = []\n",
    "    xs = []\n",
    "    BATCH_SIZE = 64\n",
    "    for x in tqdm(eval_wavs):\n",
    "        gt = np.zeros((len(class_map),))\n",
    "        for l in df_eval.loc[str(Path(x).stem)]['positive_labels'].split(','):\n",
    "            gt[class_map.loc[l]['index']] = 1\n",
    "        gts.append(gt)\n",
    "        x, fs = sf.read(x)\n",
    "        filenames.append(x)\n",
    "        if x.ndim>1:\n",
    "            x = np.mean(x,axis=1)\n",
    "        if len(x) < INPUT_LEN:\n",
    "            x = np.pad(x,(0,INPUT_LEN - x.shape[0]))\n",
    "        else:\n",
    "            x = x[:INPUT_LEN]\n",
    "        xs.append(x)\n",
    "        if len(xs) == BATCH_SIZE:\n",
    "            pred = model.predict(np.array(xs))\n",
    "            preds.append(pred)\n",
    "            xs = []\n",
    "    if len(xs) > 0:\n",
    "        pred = model.predict(np.array(xs))\n",
    "        preds.append(pred)\n",
    "\n",
    "    preds = np.concatenate(preds)\n",
    "    gts = np.stack(gts)\n",
    "    \n",
    "    ap = average_precision_score(gts,preds,average=None)\n",
    "    mAP = np.mean(ap)\n",
    "\n",
    "    return mAP"
   ],
   "outputs": [],
   "metadata": {}
  },
  {
   "cell_type": "code",
   "execution_count": 6,
   "source": [
    "ABS_CKPT_PATH = 'cache/29ee2dbd2ca67d07ea6bdc598b0a17352309a770/checkpoints'\n",
    "PEG_CKPT_PATH = 'cache/d62760c2ef31d621ca8ae8f656e3ca61e590c42a/checkpoints'\n",
    "PEG_PLUS_ABS_CKPT_PATH = 'cache/0f0b64844ee142b4e284e69f985b19000ec95e63/checkpoints'\n",
    "\n",
    "#abs_model = joblib.load('pretrained_models/abs-pe-encodings-220ksteps.dnn')\n",
    "#peg_model = joblib.load('pretrained_models/peg-embeddings-220ksteps.dnn')\n",
    "peg_plus_abs_model = joblib.load('pretrained_models/peg-plus-abs.dnn')\n",
    "\n",
    "def make_dnn_model_swa(model, ckpt_path, output_path, n_checkpoints=25):\n",
    "    ckpt_metadata = joblib.load(Path(ckpt_path,'metadata'))\n",
    "    ckpt_metadata = {m['step']: m['weights_path'] for m in ckpt_metadata}\n",
    "    ckpts = list(ckpt_metadata.values())\n",
    "    to_avg_ckpts = ckpts[-n_checkpoints:]\n",
    "    print('SWA of {}/{} checkpoints'.format(len(to_avg_ckpts),len(ckpts)))\n",
    "    print(list(ckpt_metadata.keys()))\n",
    "    swa_ckpt = swa(to_avg_ckpts)\n",
    "    model.set_weights(swa_ckpt)\n",
    "    joblib.dump(model, output_path)\n",
    "\n",
    "#make_dnn_model_swa(abs_model, ABS_CKPT_PATH, 'pretrained_models/abs-pe-encoding-swa.dnn', 25)\n",
    "#make_dnn_model_swa(peg_model, PEG_CKPT_PATH, 'pretrained_models/peg-embeddings-swa.dnn', 25)\n",
    "make_dnn_model_swa(peg_plus_abs_model, PEG_PLUS_ABS_CKPT_PATH, 'pretrained_models/peg-plus-abs-swa.dnn', 25)\n"
   ],
   "outputs": [
    {
     "output_type": "stream",
     "name": "stdout",
     "text": [
      "SWA of 25/29 checkpoints\n",
      "[9999, 19999, 29999, 39999, 49999, 59999, 69999, 79999, 89999, 99999, 109999, 119999, 129999, 139999, 149999, 159999, 169999, 179999, 189999, 199999, 209999, 219999, 229999, 239999, 249999, 259999, 269999, 279999, 289999]\n"
     ]
    }
   ],
   "metadata": {}
  },
  {
   "cell_type": "code",
   "execution_count": 7,
   "source": [
    "#model = joblib.load('pretrained_models/abs-pe-encodings-220ksteps.dnn')\n",
    "#abs_best_ckpt_map = eval_model(model)\n",
    "#print(abs_best_ckpt_map)\n",
    "#model = joblib.load('pretrained_models/peg-embeddings-220ksteps.dnn')\n",
    "#peg_best_ckpt_map = eval_model(model)\n",
    "\n",
    "#model = joblib.load('pretrained_models/peg-embeddings-balancedmixup-250ksteps.dnn')\n",
    "#peg_mixup_map = eval_model(model)\n",
    "#print(peg_mixup_map)\n",
    "#swa_maps = [eval_model(model,\n",
    "#            'cache/29ee2dbd2ca67d07ea6bdc598b0a17352309a770/checkpoints',\n",
    "#            i) for i in range(37)]\n",
    "\n",
    "model = joblib.load('pretrained_models/peg-plus-abs.dnn')\n",
    "peg_plus_abs_best_ckpt_map = eval_model(model)\n",
    "print('PEG_plus_abs: {:.3f}'.format(peg_plus_abs_best_ckpt_map))\n",
    "model = joblib.load('pretrained_models/peg-plus-abs-swa.dnn')\n",
    "peg_plus_abs_swa_map = eval_model(model)\n",
    "print('PEG_plus_abs_swa: {:.3f}'.format(peg_plus_abs_swa_map))"
   ],
   "outputs": [
    {
     "output_type": "stream",
     "name": "stderr",
     "text": [
      "100%|██████████| 16710/16710 [01:50<00:00, 150.73it/s]\n"
     ]
    },
    {
     "output_type": "stream",
     "name": "stdout",
     "text": [
      "PEG_plus_abs: 0.321\n"
     ]
    },
    {
     "output_type": "stream",
     "name": "stderr",
     "text": [
      "/home/lpepino/repos/dienen/src/dienen/core/model.py:72: UserWarning: Failed setting GPUs. Visible devices cannot be modified after being initialized\n",
      "  warnings.warn('Failed setting GPUs. {}'.format(e))\n",
      "100%|██████████| 16710/16710 [01:42<00:00, 163.56it/s]\n"
     ]
    },
    {
     "output_type": "stream",
     "name": "stdout",
     "text": [
      "PEG_plus_abs_swa: 0.331\n"
     ]
    }
   ],
   "metadata": {}
  },
  {
   "cell_type": "code",
   "execution_count": 7,
   "source": [
    "abs_swa_map = joblib.load('pretrained_models/swa_maps_abs.jl')[25]\n",
    "peg_swa_map = joblib.load('pretrained_models/swa_maps_peg.jl')[25]"
   ],
   "outputs": [],
   "metadata": {}
  },
  {
   "cell_type": "code",
   "execution_count": 9,
   "source": [
    "abs_swa_map"
   ],
   "outputs": [
    {
     "output_type": "error",
     "ename": "NameError",
     "evalue": "name 'abs_swa_map' is not defined",
     "traceback": [
      "\u001b[0;31m---------------------------------------------------------------------------\u001b[0m",
      "\u001b[0;31mNameError\u001b[0m                                 Traceback (most recent call last)",
      "\u001b[0;32m<ipython-input-9-b129d16aefd5>\u001b[0m in \u001b[0;36m<module>\u001b[0;34m\u001b[0m\n\u001b[0;32m----> 1\u001b[0;31m \u001b[0mabs_swa_map\u001b[0m\u001b[0;34m\u001b[0m\u001b[0;34m\u001b[0m\u001b[0m\n\u001b[0m",
      "\u001b[0;31mNameError\u001b[0m: name 'abs_swa_map' is not defined"
     ]
    }
   ],
   "metadata": {}
  },
  {
   "cell_type": "code",
   "execution_count": 8,
   "source": [
    "print('Abs best checkpoint MAP: {:.3f}'.format(abs_best_ckpt_map))\n",
    "print('Abs SWA MAP: {:.3f}'.format(abs_swa_map))\n",
    "print('CPEG best checkpoint MAP: {:.3f}'.format(peg_best_ckpt_map))\n",
    "print('CPEG SWA MAP: {:.3f}'.format(peg_swa_map))"
   ],
   "outputs": [
    {
     "output_type": "stream",
     "name": "stdout",
     "text": [
      "Abs best checkpoint MAP: 0.288\n",
      "Abs SWA MAP: 0.315\n",
      "CPEG best checkpoint MAP: 0.321\n",
      "CPEG SWA MAP: 0.345\n"
     ]
    }
   ],
   "metadata": {}
  },
  {
   "cell_type": "code",
   "execution_count": 6,
   "source": [
    "joblib.dump(swa_maps,'pretrained_models/swa_maps_abs.jl')"
   ],
   "outputs": [
    {
     "output_type": "execute_result",
     "data": {
      "text/plain": [
       "['pretrained_models/swa_maps_abs.jl']"
      ]
     },
     "metadata": {},
     "execution_count": 6
    }
   ],
   "metadata": {}
  },
  {
   "cell_type": "code",
   "execution_count": 5,
   "source": [
    "swa_maps = joblib.load('pretrained_models/swa_maps_abs.jl')"
   ],
   "outputs": [],
   "metadata": {}
  },
  {
   "cell_type": "code",
   "execution_count": 7,
   "source": [
    "import matplotlib.pyplot as plt\n",
    "\n",
    "plt.plot(swa_maps)"
   ],
   "outputs": [
    {
     "output_type": "execute_result",
     "data": {
      "text/plain": [
       "[<matplotlib.lines.Line2D at 0x7f5a3c37ca00>]"
      ]
     },
     "metadata": {},
     "execution_count": 7
    },
    {
     "output_type": "display_data",
     "data": {
      "text/plain": [
       "<Figure size 432x288 with 1 Axes>"
      ],
      "image/png": "[encoded data removed]"
     },
     "metadata": {
      "needs_background": "light"
     }
    }
   ],
   "metadata": {}
  },
  {
   "cell_type": "code",
   "execution_count": 5,
   "source": [
    "import matplotlib.pyplot as plt\n",
    "\n",
    "swa_maps.append(swa_maps[0])\n",
    "swa_maps = swa_maps[1:]\n",
    "\n",
    "plt.plot(swa_maps)\n",
    "plt.xlabel('Number of averaged epochs')\n",
    "plt.ylabel('mAP')"
   ],
   "outputs": [
    {
     "output_type": "execute_result",
     "data": {
      "text/plain": [
       "Text(0, 0.5, 'mAP')"
      ]
     },
     "metadata": {},
     "execution_count": 5
    },
    {
     "output_type": "display_data",
     "data": {
      "text/plain": [
       "<Figure size 432x288 with 1 Axes>"
      ],
      "image/png": "[encoded data removed]"
     },
     "metadata": {
      "needs_background": "light"
     }
    }
   ],
   "metadata": {}
  }
 ],
 "metadata": {
  "orig_nbformat": 4,
  "language_info": {
   "name": "python",
   "version": "3.9.1",
   "mimetype": "text/x-python",
   "codemirror_mode": {
    "name": "ipython",
    "version": 3
   },
   "pygments_lexer": "ipython3",
   "nbconvert_exporter": "python",
   "file_extension": ".py"
  },
  "kernelspec": {
   "name": "python3",
   "display_name": "Python 3.9.1 64-bit ('base': conda)"
  },
  "interpreter": {
   "hash": "7f109f917746bde0105aa6f4f7b7bda821548a9b1f44fb6b19ddde6ec63db59f"
  }
 },
 "nbformat": 4,
 "nbformat_minor": 2
}