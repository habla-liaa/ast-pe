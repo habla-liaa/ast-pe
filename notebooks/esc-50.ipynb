{
 "cells": [
  {
   "cell_type": "code",
   "execution_count": 1,
   "source": [
    "import glob\n",
    "import soundfile as sf\n",
    "from pathlib import Path\n",
    "import ffmpeg\n",
    "from tqdm import tqdm"
   ],
   "outputs": [],
   "metadata": {}
  },
  {
   "cell_type": "code",
   "execution_count": 2,
   "source": [
    "#Generate 16KHz version of ESC-50\n",
    "\n",
    "for f in tqdm(glob.glob('/home/lpepino/Datasets/ESC-50/ESC-50-master/audio/*.wav')):\n",
    "    f_dest = Path('/home/lpepino/Datasets/ESC-50/ESC-50-master/audio16',Path(f).name)\n",
    "    if not f_dest.parent.exists():\n",
    "        f_dest.parent.mkdir(parents=True)\n",
    "    ffmpeg.input(f).output(str(f_dest),ar=16000).run()"
   ],
   "outputs": [
    {
     "output_type": "stream",
     "name": "stderr",
     "text": [
      "100%|██████████| 2000/2000 [01:44<00:00, 19.11it/s]\n"
     ]
    }
   ],
   "metadata": {}
  },
  {
   "cell_type": "code",
   "execution_count": 4,
   "source": [
    "esc50_files = glob.glob('/home/lpepino/Datasets/ESC-50/ESC-50-master/audio/*.wav')"
   ],
   "outputs": [],
   "metadata": {}
  },
  {
   "cell_type": "code",
   "execution_count": 7,
   "source": [
    "srs = [sf.info(x).samplerate for x in esc50_files]"
   ],
   "outputs": [],
   "metadata": {}
  }
 ],
 "metadata": {
  "orig_nbformat": 4,
  "language_info": {
   "name": "python",
   "version": "3.9.1",
   "mimetype": "text/x-python",
   "codemirror_mode": {
    "name": "ipython",
    "version": 3
   },
   "pygments_lexer": "ipython3",
   "nbconvert_exporter": "python",
   "file_extension": ".py"
  },
  "kernelspec": {
   "name": "python3",
   "display_name": "Python 3.9.1 64-bit ('base': conda)"
  },
  "interpreter": {
   "hash": "7f109f917746bde0105aa6f4f7b7bda821548a9b1f44fb6b19ddde6ec63db59f"
  }
 },
 "nbformat": 4,
 "nbformat_minor": 2
}