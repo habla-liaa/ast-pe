{
 "cells": [
  {
   "cell_type": "code",
   "execution_count": 2,
   "source": [
    "import joblib"
   ],
   "outputs": [],
   "metadata": {}
  },
  {
   "cell_type": "code",
   "execution_count": 3,
   "source": [
    "abs_metrics = joblib.load('../experiments/esc50/abs_swa/MainTask/esc50MergedMetrics/out')\n",
    "peg_metrics = joblib.load('../experiments/esc50/peg_swa/MainTask/esc50MergedMetrics/out')\n",
    "peg_plus_abs_metrics = joblib.load('../experiments/esc50/peg_plus_abs_swa/MainTask/esc50MergedMetrics/out')\n",
    "no_pe_metrics = joblib.load('../experiments/esc50/no_pe_swa/MainTask/esc50MergedMetrics/out')\n",
    "\n",
    "swa_abs_metrics = joblib.load('../experiments/esc50/abs_swa/MainTask/esc50MergedMetricsSWA/out')\n",
    "swa_peg_metrics = joblib.load('../experiments/esc50/peg_swa/MainTask/esc50MergedMetricsSWA/out')\n",
    "swa_peg_plus_abs_metrics = joblib.load('../experiments/esc50/peg_plus_abs_swa/MainTask/esc50MergedMetricsSWA/out')\n",
    "swa_no_pe_metrics = joblib.load('../experiments/esc50/no_pe_swa/MainTask/esc50MergedMetricsSWA/out')"
   ],
   "outputs": [],
   "metadata": {}
  },
  {
   "cell_type": "code",
   "execution_count": 4,
   "source": [
    "print('PEG Acc: {}'.format(peg_metrics['accuracy_score']))\n",
    "print('SWA PEG Acc: {}'.format(swa_peg_metrics['accuracy_score']))\n",
    "print('ABS Acc: {}'.format(abs_metrics['accuracy_score']))\n",
    "print('SWA ABS Acc: {}'.format(swa_abs_metrics['accuracy_score']))\n",
    "print('PEG + ABS Acc: {}'.format(peg_plus_abs_metrics['accuracy_score']))\n",
    "print('SWA PEG + ABS Acc: {}'.format(swa_peg_plus_abs_metrics['accuracy_score']))\n",
    "print('No PE Acc: {}'.format(no_pe_metrics['accuracy_score']))\n",
    "print('SWA No PE Acc: {}'.format(swa_no_pe_metrics['accuracy_score']))"
   ],
   "outputs": [
    {
     "output_type": "stream",
     "name": "stdout",
     "text": [
      "PEG Acc: 0.909\n",
      "SWA PEG Acc: 0.9115\n",
      "ABS Acc: 0.869\n",
      "SWA ABS Acc: 0.8685\n",
      "PEG + ABS Acc: 0.898\n",
      "SWA PEG + ABS Acc: 0.8965\n",
      "No PE Acc: 0.8115\n",
      "SWA No PE Acc: 0.81\n"
     ]
    }
   ],
   "metadata": {}
  },
  {
   "cell_type": "code",
   "execution_count": 23,
   "source": [
    "import glob\n",
    "import numpy as np\n",
    "\n",
    "fold_metrics_peg = [joblib.load(x)['accuracy_score'] for x in glob.glob('../experiments/esc50/peg_swa/MainTask/esc50KFold/*/esc50Metrics/out')]\n",
    "fold_metrics_peg_swa = [joblib.load(x)['accuracy_score'] for x in glob.glob('../experiments/esc50/peg_swa/MainTask/esc50KFold/*/esc50MetricsSWA/out')]\n",
    "\n",
    "fold_metrics_abs = [joblib.load(x)['accuracy_score'] for x in glob.glob('../experiments/esc50/abs_swa/MainTask/esc50KFold/*/esc50Metrics/out')]\n",
    "fold_metrics_abs_swa = [joblib.load(x)['accuracy_score'] for x in glob.glob('../experiments/esc50/abs_swa/MainTask/esc50KFold/*/esc50MetricsSWA/out')]\n",
    "\n",
    "print('PEG: {:.4f} ({:.4f})'.format(np.mean(fold_metrics_peg),np.std(fold_metrics_peg)))\n",
    "print('PEG_SWA: {:.4f} ({:.4f})'.format(np.mean(fold_metrics_peg_swa),np.std(fold_metrics_peg_swa)))\n",
    "print('ABS: {:.4f} ({:.4f})'.format(np.mean(fold_metrics_abs),np.std(fold_metrics_abs)))\n",
    "print('ABS_SWA: {:.4f} ({:.4f})'.format(np.mean(fold_metrics_abs_swa),np.std(fold_metrics_abs_swa)))"
   ],
   "outputs": [
    {
     "output_type": "stream",
     "name": "stdout",
     "text": [
      "PEG: 0.9090 (0.0185)\n",
      "PEG_SWA: 0.9115 (0.0215)\n",
      "ABS: 0.8690 (0.0078)\n",
      "ABS_SWA: 0.8685 (0.0075)\n"
     ]
    }
   ],
   "metadata": {}
  },
  {
   "cell_type": "code",
   "execution_count": null,
   "source": [
    "fold_metrics = [joblib.load(x)['accuracy_score'] for x in glob.glob('../experiments/esc50/peg_swa/MainTask/esc50KFold/*/esc50Metrics/out')]"
   ],
   "outputs": [],
   "metadata": {}
  },
  {
   "cell_type": "code",
   "execution_count": 21,
   "source": [
    "\n",
    "\n",
    "np.mean(fold_metrics)"
   ],
   "outputs": [
    {
     "output_type": "execute_result",
     "data": {
      "text/plain": [
       "0.909"
      ]
     },
     "metadata": {},
     "execution_count": 21
    }
   ],
   "metadata": {}
  },
  {
   "cell_type": "code",
   "execution_count": null,
   "source": [
    "joblib.load('../experiments/esc50/peg_swa/MainTask/esc50KFold/')"
   ],
   "outputs": [],
   "metadata": {}
  }
 ],
 "metadata": {
  "orig_nbformat": 4,
  "language_info": {
   "name": "python",
   "version": "3.9.1",
   "mimetype": "text/x-python",
   "codemirror_mode": {
    "name": "ipython",
    "version": 3
   },
   "pygments_lexer": "ipython3",
   "nbconvert_exporter": "python",
   "file_extension": ".py"
  },
  "kernelspec": {
   "name": "python3",
   "display_name": "Python 3.9.1 64-bit ('base': conda)"
  },
  "interpreter": {
   "hash": "7f109f917746bde0105aa6f4f7b7bda821548a9b1f44fb6b19ddde6ec63db59f"
  }
 },
 "nbformat": 4,
 "nbformat_minor": 2
}