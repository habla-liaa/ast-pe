{
 "cells": [
  {
   "cell_type": "code",
   "execution_count": 1,
   "source": [
    "import joblib\n",
    "import pandas as pd\n",
    "import matplotlib.pyplot as plt\n",
    "import numpy as np\n",
    "from tqdm import tqdm"
   ],
   "outputs": [],
   "metadata": {}
  },
  {
   "cell_type": "code",
   "execution_count": 2,
   "source": [
    "read_csv_kwarg = {'delimiter': ',',\n",
    "    'skipinitialspace': True,\n",
    "    'quotechar': '\"',\n",
    "    'encoding': 'utf-8',\n",
    "    'header': 2}\n",
    "\n",
    "df_balanced = pd.read_csv('../../Datasets/Audioset/balanced_train_segments.csv',**read_csv_kwarg)\n",
    "df_unbalanced = pd.read_csv('../../Datasets/Audioset/unbalanced_train_segments.csv',**read_csv_kwarg)\n",
    "df_eval = pd.read_csv('../../Datasets/Audioset/eval_segments.csv',**read_csv_kwarg)\n",
    "\n",
    "df_train = pd.concat([df_balanced,df_unbalanced])\n",
    "df_train = df_train.set_index('# YTID')\n",
    "df_eval = df_eval.set_index('# YTID')\n",
    "audio_to_zip = joblib.load('../../Datasets/Audioset/audio_to_zip.pkl')\n",
    "available_ytids = list(audio_to_zip.keys())\n",
    "\n",
    "class_map = pd.read_csv('../../Datasets/Audioset/audioset_class_map.csv')\n",
    "class_map = class_map.reset_index().set_index('mid')\n",
    "\n",
    "#dev_ytids = [y for y in available_ytids if y not in df_eval.index]\n",
    "#df_train = df_train.loc[dev_ytids]"
   ],
   "outputs": [],
   "metadata": {}
  },
  {
   "cell_type": "code",
   "execution_count": 6,
   "source": [
    "df_balanced = pd.read_csv('../../Datasets/Audioset/balanced_train_segments.csv',**read_csv_kwarg)\n",
    "df_unbalanced = pd.read_csv('../../Datasets/Audioset/unbalanced_train_segments.csv',**read_csv_kwarg)\n",
    "df_eval = pd.read_csv('../../Datasets/Audioset/eval_segments.csv',**read_csv_kwarg)\n",
    "df_balanced = df_balanced.set_index('# YTID')\n",
    "df_unbalanced = df_unbalanced.set_index('# YTID')\n",
    "df_eval = df_eval.set_index('# YTID')\n",
    "\n",
    "balanced_ytids = []\n",
    "unbalanced_ytids = []\n",
    "eval_ytids = []\n",
    "\n",
    "for x in available_ytids:\n",
    "    if x in df_balanced.index:\n",
    "        balanced_ytids.append(x)\n",
    "    elif x in df_eval.index:\n",
    "        eval_ytids.append(x)\n",
    "    else:\n",
    "        unbalanced_ytids.append(x)\n",
    "\n",
    "bal_len, unbal_len, eval_len = len(df_balanced), len(df_unbalanced), len(df_eval)\n",
    "bal_ours, unbal_ours, eval_ours = len(df_balanced.loc[balanced_ytids]), len(df_unbalanced.loc[unbalanced_ytids]), len(df_eval.loc[eval_ytids])\n",
    "print('Balanced set: {}/{} ({:.2f} %)'.format(bal_ours,bal_len,100*bal_ours/bal_len))\n",
    "print('Unbalanced set: {}/{} ({:.2f} %)'.format(unbal_ours,unbal_len,100*unbal_ours/unbal_len))\n",
    "print('Evaluation set: {}/{} ({:.2f} %)'.format(eval_ours,eval_len,100*eval_ours/eval_len))"
   ],
   "outputs": [
    {
     "output_type": "stream",
     "name": "stdout",
     "text": [
      "Balanced set: 18026/22160 (81.34 %)\n",
      "Unbalanced set: 1637982/2041789 (80.22 %)\n",
      "Evaluation set: 16710/20371 (82.03 %)\n"
     ]
    }
   ],
   "metadata": {}
  },
  {
   "cell_type": "code",
   "execution_count": 81,
   "source": [
    "class_counts = np.zeros((527,))\n",
    "for logid, row in tqdm(df_train.iterrows()):\n",
    "    for l in row['positive_labels'].split(','):\n",
    "        class_counts[int(class_map.loc[l]['index'])] += 1     \n",
    "\n",
    "class_counts = pd.DataFrame({'class_count': class_counts, 'class': class_map['display_name'].values})\n",
    "class_counts = class_counts.sort_values(by='class_count',ascending=False)"
   ],
   "outputs": [
    {
     "output_type": "stream",
     "name": "stderr",
     "text": [
      "1656008it [06:09, 4478.72it/s]\n"
     ]
    }
   ],
   "metadata": {}
  },
  {
   "cell_type": "code",
   "execution_count": 53,
   "source": [
    "class_counts = class_counts.sort_index()\n",
    "\n",
    "def calculate_sample_rarity(x):\n",
    "    rarity = 0\n",
    "    for l in x.split(','):\n",
    "        rarity += 1.0/class_counts.iloc[int(class_map.loc[l]['index'])]['class_count']\n",
    "    return rarity\n",
    "\n",
    "df_train['rarity'] = df_train['positive_labels'].apply(calculate_sample_rarity)"
   ],
   "outputs": [],
   "metadata": {}
  },
  {
   "cell_type": "code",
   "execution_count": 57,
   "source": [
    "sample_probs = (df_train['rarity']/527).values"
   ],
   "outputs": [],
   "metadata": {}
  },
  {
   "cell_type": "code",
   "execution_count": 58,
   "source": [
    "df_train"
   ],
   "outputs": [
    {
     "output_type": "execute_result",
     "data": {
      "text/plain": [
       "             start_seconds  end_seconds  \\\n",
       "# YTID                                    \n",
       "-uLJl3o_AZw           30.0         40.0   \n",
       "0Uf9LM840vA           40.0         50.0   \n",
       "-BxQ9nkrId4           30.0         40.0   \n",
       "0zfWGqDMT04           30.0         40.0   \n",
       "1C6VhOCffIE           60.0         70.0   \n",
       "...                    ...          ...   \n",
       "NazYCG1ROwo           30.0         40.0   \n",
       "N_G3NDX-K-0           30.0         40.0   \n",
       "N_ses65_Nf0           30.0         40.0   \n",
       "N_qvk6Wv_6Q          300.0        310.0   \n",
       "NaVkSPS5IRI           50.0         60.0   \n",
       "\n",
       "                                               positive_labels    rarity  \n",
       "# YTID                                                                    \n",
       "-uLJl3o_AZw                                  /m/04rlf,/m/0m0jc  0.000231  \n",
       "0Uf9LM840vA                                           /m/0k65p  0.003559  \n",
       "-BxQ9nkrId4                                         /m/07qv_x_  0.002294  \n",
       "0zfWGqDMT04                                          /m/08j51y  0.011765  \n",
       "1C6VhOCffIE      /m/0342h,/m/03lty,/m/04szw,/m/07m2kt,/m/0dl5d  0.004751  \n",
       "...                                                        ...       ...  \n",
       "NazYCG1ROwo                /m/01z5f,/m/068hy,/m/0bt9lr,/m/0jbk  0.000888  \n",
       "N_G3NDX-K-0                                           /m/09x0r  0.000001  \n",
       "N_ses65_Nf0                                           /m/04rlf  0.000001  \n",
       "N_qvk6Wv_6Q                                /m/07k1x,/t/dd00126  0.000212  \n",
       "NaVkSPS5IRI  /m/01qbl,/m/026t6,/m/02hnl,/m/03qtq,/m/04rlf,/...  0.001079  \n",
       "\n",
       "[1656008 rows x 4 columns]"
      ],
      "text/html": [
       "<div>\n",
       "<style scoped>\n",
       "    .dataframe tbody tr th:only-of-type {\n",
       "        vertical-align: middle;\n",
       "    }\n",
       "\n",
       "    .dataframe tbody tr th {\n",
       "        vertical-align: top;\n",
       "    }\n",
       "\n",
       "    .dataframe thead th {\n",
       "        text-align: right;\n",
       "    }\n",
       "</style>\n",
       "<table border=\"1\" class=\"dataframe\">\n",
       "  <thead>\n",
       "    <tr style=\"text-align: right;\">\n",
       "      <th></th>\n",
       "      <th>start_seconds</th>\n",
       "      <th>end_seconds</th>\n",
       "      <th>positive_labels</th>\n",
       "      <th>rarity</th>\n",
       "    </tr>\n",
       "    <tr>\n",
       "      <th># YTID</th>\n",
       "      <th></th>\n",
       "      <th></th>\n",
       "      <th></th>\n",
       "      <th></th>\n",
       "    </tr>\n",
       "  </thead>\n",
       "  <tbody>\n",
       "    <tr>\n",
       "      <th>-uLJl3o_AZw</th>\n",
       "      <td>30.0</td>\n",
       "      <td>40.0</td>\n",
       "      <td>/m/04rlf,/m/0m0jc</td>\n",
       "      <td>0.000231</td>\n",
       "    </tr>\n",
       "    <tr>\n",
       "      <th>0Uf9LM840vA</th>\n",
       "      <td>40.0</td>\n",
       "      <td>50.0</td>\n",
       "      <td>/m/0k65p</td>\n",
       "      <td>0.003559</td>\n",
       "    </tr>\n",
       "    <tr>\n",
       "      <th>-BxQ9nkrId4</th>\n",
       "      <td>30.0</td>\n",
       "      <td>40.0</td>\n",
       "      <td>/m/07qv_x_</td>\n",
       "      <td>0.002294</td>\n",
       "    </tr>\n",
       "    <tr>\n",
       "      <th>0zfWGqDMT04</th>\n",
       "      <td>30.0</td>\n",
       "      <td>40.0</td>\n",
       "      <td>/m/08j51y</td>\n",
       "      <td>0.011765</td>\n",
       "    </tr>\n",
       "    <tr>\n",
       "      <th>1C6VhOCffIE</th>\n",
       "      <td>60.0</td>\n",
       "      <td>70.0</td>\n",
       "      <td>/m/0342h,/m/03lty,/m/04szw,/m/07m2kt,/m/0dl5d</td>\n",
       "      <td>0.004751</td>\n",
       "    </tr>\n",
       "    <tr>\n",
       "      <th>...</th>\n",
       "      <td>...</td>\n",
       "      <td>...</td>\n",
       "      <td>...</td>\n",
       "      <td>...</td>\n",
       "    </tr>\n",
       "    <tr>\n",
       "      <th>NazYCG1ROwo</th>\n",
       "      <td>30.0</td>\n",
       "      <td>40.0</td>\n",
       "      <td>/m/01z5f,/m/068hy,/m/0bt9lr,/m/0jbk</td>\n",
       "      <td>0.000888</td>\n",
       "    </tr>\n",
       "    <tr>\n",
       "      <th>N_G3NDX-K-0</th>\n",
       "      <td>30.0</td>\n",
       "      <td>40.0</td>\n",
       "      <td>/m/09x0r</td>\n",
       "      <td>0.000001</td>\n",
       "    </tr>\n",
       "    <tr>\n",
       "      <th>N_ses65_Nf0</th>\n",
       "      <td>30.0</td>\n",
       "      <td>40.0</td>\n",
       "      <td>/m/04rlf</td>\n",
       "      <td>0.000001</td>\n",
       "    </tr>\n",
       "    <tr>\n",
       "      <th>N_qvk6Wv_6Q</th>\n",
       "      <td>300.0</td>\n",
       "      <td>310.0</td>\n",
       "      <td>/m/07k1x,/t/dd00126</td>\n",
       "      <td>0.000212</td>\n",
       "    </tr>\n",
       "    <tr>\n",
       "      <th>NaVkSPS5IRI</th>\n",
       "      <td>50.0</td>\n",
       "      <td>60.0</td>\n",
       "      <td>/m/01qbl,/m/026t6,/m/02hnl,/m/03qtq,/m/04rlf,/...</td>\n",
       "      <td>0.001079</td>\n",
       "    </tr>\n",
       "  </tbody>\n",
       "</table>\n",
       "<p>1656008 rows × 4 columns</p>\n",
       "</div>"
      ]
     },
     "metadata": {},
     "execution_count": 58
    }
   ],
   "metadata": {}
  },
  {
   "cell_type": "code",
   "execution_count": 76,
   "source": [
    "idxs = []\n",
    "for i in range(160):\n",
    "    idxs.append(np.random.choice(df_train.index[i*10000:(i+1)*10000], size=10000,replace=True,p=sample_probs[i*10000:(i+1)*10000]/np.sum(sample_probs[i*10000:(i+1)*10000])))\n",
    "\n",
    "idxs = np.concatenate(idxs)"
   ],
   "outputs": [],
   "metadata": {}
  },
  {
   "cell_type": "code",
   "execution_count": 79,
   "source": [
    "df_train_resampled_rarity = df_train.loc[idxs]\n",
    "\n",
    "class_counts_resampled = np.zeros((527,))\n",
    "for logid, row in tqdm(df_train_resampled_rarity.iterrows()):\n",
    "    for l in row['positive_labels'].split(','):\n",
    "        class_counts_resampled[int(class_map.loc[l]['index'])] += 1     \n",
    "\n",
    "class_counts_resampled = pd.DataFrame({'class_count': class_counts_resampled, 'class': class_map['display_name'].values})\n",
    "class_counts_resampled = class_counts_resampled.sort_values(by='class_count',ascending=False)"
   ],
   "outputs": [
    {
     "output_type": "stream",
     "name": "stderr",
     "text": [
      "1600000it [07:55, 3368.17it/s]\n"
     ]
    },
    {
     "output_type": "execute_result",
     "data": {
      "text/plain": [
       "Text(0.5, 1.0, 'Audioset class balance')"
      ]
     },
     "metadata": {},
     "execution_count": 79
    },
    {
     "output_type": "display_data",
     "data": {
      "text/plain": [
       "<Figure size 1440x360 with 1 Axes>"
      ],
      "image/png": "[encoded data removed]"
     },
     "metadata": {
      "needs_background": "light"
     }
    }
   ],
   "metadata": {}
  },
  {
   "cell_type": "code",
   "execution_count": 82,
   "source": [
    "plt.figure(figsize=(20,5))\n",
    "plt.plot(class_counts['class_count'].values, label='no balancing')\n",
    "plt.plot(class_counts_resampled['class_count'].values,label='balancing')\n",
    "plt.yscale('log')\n",
    "plt.ylabel('Class count')\n",
    "plt.title('Audioset class balance')\n",
    "plt.legend()\n"
   ],
   "outputs": [
    {
     "output_type": "execute_result",
     "data": {
      "text/plain": [
       "<matplotlib.legend.Legend at 0x7f70b5911190>"
      ]
     },
     "metadata": {},
     "execution_count": 82
    },
    {
     "output_type": "display_data",
     "data": {
      "text/plain": [
       "<Figure size 1440x360 with 1 Axes>"
      ],
      "image/png": "[encoded data removed]"
     },
     "metadata": {
      "needs_background": "light"
     }
    }
   ],
   "metadata": {}
  },
  {
   "cell_type": "code",
   "execution_count": 86,
   "source": [
    "joblib.dump(class_counts,'audioset_dev_class_counts.pickle')"
   ],
   "outputs": [
    {
     "output_type": "execute_result",
     "data": {
      "text/plain": [
       "['audioset_dev_class_counts.pickle']"
      ]
     },
     "metadata": {},
     "execution_count": 86
    }
   ],
   "metadata": {}
  },
  {
   "cell_type": "code",
   "execution_count": null,
   "source": [],
   "outputs": [],
   "metadata": {}
  }
 ],
 "metadata": {
  "orig_nbformat": 4,
  "language_info": {
   "name": "python",
   "version": "3.9.1",
   "mimetype": "text/x-python",
   "codemirror_mode": {
    "name": "ipython",
    "version": 3
   },
   "pygments_lexer": "ipython3",
   "nbconvert_exporter": "python",
   "file_extension": ".py"
  },
  "kernelspec": {
   "name": "python3",
   "display_name": "Python 3.9.1 64-bit ('base': conda)"
  },
  "interpreter": {
   "hash": "7f109f917746bde0105aa6f4f7b7bda821548a9b1f44fb6b19ddde6ec63db59f"
  }
 },
 "nbformat": 4,
 "nbformat_minor": 2
}