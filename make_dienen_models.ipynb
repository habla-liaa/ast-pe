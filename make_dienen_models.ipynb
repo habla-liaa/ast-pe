{
 "cells": [
  {
   "cell_type": "code",
   "execution_count": 1,
   "source": [
    "import dienen\n",
    "import joblib"
   ],
   "outputs": [],
   "metadata": {}
  },
  {
   "cell_type": "code",
   "execution_count": 4,
   "source": [
    "ast_model = dienen.Model('pretrained_models/ast-alibi2d.yaml')\n",
    "ast_model.build()\n",
    "ast_model.set_weights('pretrained_models/alibi2d-260ksteps.weights')\n",
    "joblib.dump(ast_model,'pretrained_models/alibi2d.dnn')"
   ],
   "outputs": [
    {
     "output_type": "execute_result",
     "data": {
      "text/plain": [
       "['pretrained_models/alibi2d.dnn']"
      ]
     },
     "metadata": {},
     "execution_count": 4
    }
   ],
   "metadata": {}
  },
  {
   "cell_type": "code",
   "execution_count": 6,
   "source": [
    "mw = joblib.load('pretrained_models/peg-embeddings-220ksteps.weights')"
   ],
   "outputs": [],
   "metadata": {}
  },
  {
   "cell_type": "code",
   "execution_count": 10,
   "source": [
    "mw_dienen = joblib.load('pretrained_models/peg-embeddings-220ksteps.dnn')"
   ],
   "outputs": [],
   "metadata": {}
  },
  {
   "cell_type": "code",
   "execution_count": null,
   "source": [
    "mw_dienen.core_model.processed_config"
   ],
   "outputs": [],
   "metadata": {}
  },
  {
   "cell_type": "code",
   "execution_count": 20,
   "source": [
    "ast_model.set_weights('pretrained_models/abs-pe-encodings-220ksteps.weights')"
   ],
   "outputs": [],
   "metadata": {}
  },
  {
   "cell_type": "code",
   "execution_count": 21,
   "source": [
    "joblib.dump(ast_model,'pretrained_models/abs-pe-encodings-220ksteps.dnn')"
   ],
   "outputs": [
    {
     "output_type": "execute_result",
     "data": {
      "text/plain": [
       "['pretrained_models/abs-pe-encodings-220ksteps.dnn']"
      ]
     },
     "metadata": {},
     "execution_count": 21
    }
   ],
   "metadata": {}
  },
  {
   "cell_type": "code",
   "execution_count": 15,
   "source": [
    "ast_model.summary()"
   ],
   "outputs": [
    {
     "output_type": "stream",
     "name": "stdout",
     "text": [
      "Model: \"model_1\"\n",
      "_________________________________________________________________\n",
      "Layer (type)                 Output Shape              Param #   \n",
      "=================================================================\n",
      "waveform (InputLayer)        [(None, 158960)]          0         \n",
      "_________________________________________________________________\n",
      "Spectrogram_0 (Spectrogram)  (None, 992, 257)          0         \n",
      "_________________________________________________________________\n",
      "SpecAugment_0 (SpecAugment)  (None, 992, 257)          254944    \n",
      "_________________________________________________________________\n",
      "MelScale_0 (MelScale)        (None, 992, 64)           0         \n",
      "_________________________________________________________________\n",
      "Log_0 (Log)                  (None, 992, 64)           0         \n",
      "_________________________________________________________________\n",
      "TranslateRange_0 (TranslateR (None, 992, 64)           0         \n",
      "_________________________________________________________________\n",
      "Activation_0 (Activation)    (None, 992, 64)           0         \n",
      "_________________________________________________________________\n",
      "ExpandDims_0 (ExpandDims)    (None, 992, 64, 1)        0         \n",
      "_________________________________________________________________\n",
      "patches (GetPatches)         (None, 248, 32, 8, 1)     0         \n",
      "_________________________________________________________________\n",
      "flattened_patches (Reshape)  (None, 248, 256)          0         \n",
      "_________________________________________________________________\n",
      "patches_projection (Dense)   (None, 248, 768)          197376    \n",
      "_________________________________________________________________\n",
      "add_cls_token (ZeroPadding1D (None, 249, 768)          0         \n",
      "_________________________________________________________________\n",
      "add_positional_embedding (Po (None, 249, 768)          191232    \n",
      "_________________________________________________________________\n",
      "LayerNormalization_0 (LayerN (None, 249, 768)          1536      \n",
      "_________________________________________________________________\n",
      "transformer_encoder_0/Transf (None, 249, 768)          5508096   \n",
      "_________________________________________________________________\n",
      "transformer_encoder_1/Transf (None, 249, 768)          5508096   \n",
      "_________________________________________________________________\n",
      "transformer_encoder_2/Transf (None, 249, 768)          5508096   \n",
      "_________________________________________________________________\n",
      "transformer_encoder_3/Transf (None, 249, 768)          5508096   \n",
      "_________________________________________________________________\n",
      "transformer_encoder_4/Transf (None, 249, 768)          5508096   \n",
      "_________________________________________________________________\n",
      "transformer_encoder_5/Transf (None, 249, 768)          5508096   \n",
      "_________________________________________________________________\n",
      "transformer_encoder_6/Transf (None, 249, 768)          5508096   \n",
      "_________________________________________________________________\n",
      "transformer_encoder_7/Transf (None, 249, 768)          5508096   \n",
      "_________________________________________________________________\n",
      "transformer_encoder_8/Transf (None, 249, 768)          5508096   \n",
      "_________________________________________________________________\n",
      "transformer_encoder_9/Transf (None, 249, 768)          5508096   \n",
      "_________________________________________________________________\n",
      "transformer_encoder_10/Trans (None, 249, 768)          5508096   \n",
      "_________________________________________________________________\n",
      "transformer_encoder_11/Trans (None, 249, 768)          5508096   \n",
      "_________________________________________________________________\n",
      "get_cls_token (SliceTensor)  (None, 1, 768)            0         \n",
      "_________________________________________________________________\n",
      "Squeeze_0 (Squeeze)          (None, 768)               0         \n",
      "_________________________________________________________________\n",
      "probs/Dense (Dense)          (None, 527)               405263    \n",
      "_________________________________________________________________\n",
      "probs/Activation (Activation (None, 527)               0         \n",
      "=================================================================\n",
      "Total params: 67,147,503\n",
      "Trainable params: 66,892,559\n",
      "Non-trainable params: 254,944\n",
      "_________________________________________________________________\n"
     ]
    }
   ],
   "metadata": {}
  },
  {
   "cell_type": "code",
   "execution_count": null,
   "source": [],
   "outputs": [],
   "metadata": {}
  }
 ],
 "metadata": {
  "orig_nbformat": 4,
  "language_info": {
   "name": "python",
   "version": "3.9.1",
   "mimetype": "text/x-python",
   "codemirror_mode": {
    "name": "ipython",
    "version": 3
   },
   "pygments_lexer": "ipython3",
   "nbconvert_exporter": "python",
   "file_extension": ".py"
  },
  "kernelspec": {
   "name": "python3",
   "display_name": "Python 3.9.1 64-bit ('base': conda)"
  },
  "interpreter": {
   "hash": "7f109f917746bde0105aa6f4f7b7bda821548a9b1f44fb6b19ddde6ec63db59f"
  }
 },
 "nbformat": 4,
 "nbformat_minor": 2
}